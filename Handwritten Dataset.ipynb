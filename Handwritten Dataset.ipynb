{
  "cells": [
    {
      "cell_type": "markdown",
      "metadata": {
        "id": "view-in-github",
        "colab_type": "text"
      },
      "source": [
        "<a href=\"https://colab.research.google.com/github/Temmy-bit/CC-Fraud-Detection/blob/main/Handwritten%20Dataset.ipynb\" target=\"_parent\"><img src=\"https://colab.research.google.com/assets/colab-badge.svg\" alt=\"Open In Colab\"/></a>"
      ]
    },
    {
      "cell_type": "code",
      "execution_count": 16,
      "metadata": {
        "colab": {
          "base_uri": "https://localhost:8080/"
        },
        "id": "2RguUn-idyDl",
        "outputId": "1eb53e35-e081-4288-a59d-682c816ecb1c"
      },
      "outputs": [
        {
          "output_type": "stream",
          "name": "stdout",
          "text": [
            "Mounted at /content/drive\n"
          ]
        }
      ],
      "source": [
        "from google.colab import drive\n",
        "drive.mount('/content/drive')"
      ]
    },
    {
      "cell_type": "code",
      "execution_count": 1,
      "metadata": {
        "id": "nE9G-YXL0QZo"
      },
      "outputs": [],
      "source": [
        "import tensorflow as tf\n",
        "from tensorflow import keras\n",
        "import numpy as np\n",
        "import matplotlib.pyplot as plt\n",
        "import pandas as pd\n",
        "from tensorflow.keras.datasets import mnist\n",
        "import cv2 as cv\n",
        "from sklearn.preprocessing import LabelEncoder, LabelBinarizer\n",
        "from sklearn.model_selection import train_test_split\n",
        "from tensorflow.keras.applications import ResNet50V2, ResNet50"
      ]
    },
    {
      "cell_type": "code",
      "execution_count": 2,
      "metadata": {
        "id": "anaIH9cJ0jv_",
        "colab": {
          "base_uri": "https://localhost:8080/"
        },
        "outputId": "49147b5b-03d9-44a0-c37a-23d10c538802"
      },
      "outputs": [
        {
          "output_type": "stream",
          "name": "stdout",
          "text": [
            "Downloading data from https://storage.googleapis.com/tensorflow/tf-keras-datasets/mnist.npz\n",
            "11493376/11490434 [==============================] - 0s 0us/step\n",
            "11501568/11490434 [==============================] - 0s 0us/step\n"
          ]
        }
      ],
      "source": [
        "data = keras.datasets.mnist.load_data(path=\"mnist.npz\")"
      ]
    },
    {
      "cell_type": "code",
      "execution_count": 3,
      "metadata": {
        "id": "sbDUbN3R51nF"
      },
      "outputs": [],
      "source": [
        "(train_images, train_labels), (test_images,test_labels) = data"
      ]
    },
    {
      "cell_type": "code",
      "execution_count": 4,
      "metadata": {
        "id": "G2U221EXLuDo"
      },
      "outputs": [],
      "source": [
        "train_images = train_images/255.0\n",
        "test_images = test_images/255.0"
      ]
    },
    {
      "cell_type": "code",
      "execution_count": 5,
      "metadata": {
        "colab": {
          "base_uri": "https://localhost:8080/"
        },
        "id": "Cc3-V4Tmlz_A",
        "outputId": "e896249c-6f31-4602-d3b1-da04350c101e"
      },
      "outputs": [
        {
          "output_type": "execute_result",
          "data": {
            "text/plain": [
              "((60000, 28, 28), (60000,))"
            ]
          },
          "metadata": {},
          "execution_count": 5
        }
      ],
      "source": [
        "train_images.shape,train_labels.shape"
      ]
    },
    {
      "cell_type": "code",
      "execution_count": 6,
      "metadata": {
        "id": "JjX4RenM-qze"
      },
      "outputs": [],
      "source": [
        "# model = keras.Sequential([\n",
        "#                         keras.layers.Flatten(input_shape=(28,28)),\n",
        "#                         keras.layers.Dense(128,activation='relu'),\n",
        "#                         keras.layers.Dense(10,activation='softmax')\n",
        "# ])\n",
        "# model.compile(optimizer = 'adam',loss='sparse_categorical_crossentropy',metrics=['accuracy'])\n",
        "# model.fit(train_images,train_labels,epochs =10)"
      ]
    },
    {
      "cell_type": "code",
      "execution_count": 7,
      "metadata": {
        "id": "_ehAqC5JMF22"
      },
      "outputs": [],
      "source": [
        "# test_loss,test_auc=model.evaluate(test_images,test_labels)"
      ]
    },
    {
      "cell_type": "code",
      "execution_count": 8,
      "metadata": {
        "id": "J7J27fsV_YG-"
      },
      "outputs": [],
      "source": [
        "# tf.as_dataframe(\n",
        "#     train_images: tf.data.Dataset,\n",
        "#     train_images: Optional[tf.core.DatasetInfo] = None\n",
        "# ) -> StyledDataFrame"
      ]
    },
    {
      "cell_type": "code",
      "execution_count": 9,
      "metadata": {
        "colab": {
          "base_uri": "https://localhost:8080/"
        },
        "id": "MNdEQKViNQl-",
        "outputId": "8764927f-a7aa-4518-da72-e39d9ea3a669"
      },
      "outputs": [
        {
          "output_type": "execute_result",
          "data": {
            "text/plain": [
              "(60000, 28, 28)"
            ]
          },
          "metadata": {},
          "execution_count": 9
        }
      ],
      "source": [
        "train_images.shape"
      ]
    },
    {
      "cell_type": "markdown",
      "metadata": {
        "id": "FVuUn_l7Qqy7"
      },
      "source": [
        ""
      ]
    },
    {
      "cell_type": "code",
      "execution_count": 10,
      "metadata": {
        "id": "2fTDFAlqPRo-"
      },
      "outputs": [],
      "source": [
        "# df = pd.read_csv('/content/drive/MyDrive/A_Z Handwritten Data.csv')"
      ]
    },
    {
      "cell_type": "code",
      "execution_count": 11,
      "metadata": {
        "id": "eKCkqBL6iNL7"
      },
      "outputs": [],
      "source": [
        "# df.shape"
      ]
    },
    {
      "cell_type": "code",
      "execution_count": 12,
      "metadata": {
        "colab": {
          "base_uri": "https://localhost:8080/"
        },
        "id": "WZemOeAEiar7",
        "outputId": "e1daf49c-358f-4fec-b522-4712e757f27b"
      },
      "outputs": [
        {
          "output_type": "execute_result",
          "data": {
            "text/plain": [
              "298483"
            ]
          },
          "metadata": {},
          "execution_count": 12
        }
      ],
      "source": [
        "372450-73967"
      ]
    },
    {
      "cell_type": "code",
      "execution_count": 13,
      "metadata": {
        "id": "MUwLPfdtQxSl"
      },
      "outputs": [],
      "source": [
        "def load_az_dataset(datasetPath):\n",
        "    # List for storing data\n",
        "    data = []\n",
        "  \n",
        "    # List for storing labels\n",
        "    labels = []\n",
        "  \n",
        "    for row in open(datasetPath): #Openfile and start reading each row\n",
        "    #Split the row at every comma\n",
        "        row = row.split(\",\")\n",
        "    \n",
        "        #row[0] contains label\n",
        "        label = int(row[0])\n",
        "    \n",
        "        #Other all collumns contains pixel values make a saperate array for that\n",
        "        image = np.array([int(x) for x in row[1:]], dtype=\"uint8\")\n",
        "        \n",
        "        #Reshaping image to 28 x 28 pixels\n",
        "        image = image.reshape((28, 28))\n",
        "        \n",
        "        #append image to data\n",
        "        data.append(image)\n",
        "        \n",
        "        #append label to labels\n",
        "        labels.append(label)\n",
        "    \n",
        "    #Converting data to numpy array of type float32\n",
        "    data = np.array(data, dtype='float32')\n",
        "  \n",
        "    #Converting labels to type int\n",
        "    labels = np.array(labels, dtype=\"int\")\n",
        "    \n",
        "    return (data, labels)"
      ]
    },
    {
      "cell_type": "code",
      "execution_count": 17,
      "metadata": {
        "id": "mWZbccTeRCuq"
      },
      "outputs": [],
      "source": [
        "az_data, az_labels = load_az_dataset(\"/content/drive/MyDrive/A_Z Handwritten Data.csv\")"
      ]
    },
    {
      "cell_type": "code",
      "execution_count": 18,
      "metadata": {
        "id": "rfi5vPs-Si1C"
      },
      "outputs": [],
      "source": [
        "# df.iloc[:,784].isnull().sum()"
      ]
    },
    {
      "cell_type": "code",
      "execution_count": 19,
      "metadata": {
        "colab": {
          "base_uri": "https://localhost:8080/"
        },
        "id": "rvJbhfguqu-Z",
        "outputId": "8217e9b2-622c-4f0c-f534-c8917c52caf4"
      },
      "outputs": [
        {
          "output_type": "execute_result",
          "data": {
            "text/plain": [
              "(372451,)"
            ]
          },
          "metadata": {},
          "execution_count": 19
        }
      ],
      "source": [
        "az_labels.shape"
      ]
    },
    {
      "cell_type": "code",
      "execution_count": 20,
      "metadata": {
        "id": "eCes9ocQZWl2"
      },
      "outputs": [],
      "source": [
        "# df.shape"
      ]
    },
    {
      "cell_type": "code",
      "execution_count": 21,
      "metadata": {
        "id": "XSyu7y2jZyy6"
      },
      "outputs": [],
      "source": [
        "# x = df.loc[70000][1:].values\n",
        "# x = x.reshape((28, 28))\n",
        "# plt.imshow(x, cmap='binary')\n",
        "# plt.show()"
      ]
    },
    {
      "cell_type": "code",
      "execution_count": 22,
      "metadata": {
        "id": "iT_OmBm2gvTL"
      },
      "outputs": [],
      "source": [
        "# load data from tensorflow framework\n",
        "(x_train, y_train), (x_test, y_test) = mnist.load_data()\n",
        "\n",
        "# Stack train data and test data to form single array \n",
        "mnist_data = np.vstack([x_train, x_test])\n",
        "\n",
        "# Horizontal stacking labels of train and test set\n",
        "mnist_labels = np.hstack([y_train, y_test])"
      ]
    },
    {
      "cell_type": "code",
      "execution_count": 23,
      "metadata": {
        "colab": {
          "base_uri": "https://localhost:8080/"
        },
        "id": "Qaodq7Upsuif",
        "outputId": "54deacad-0ef2-40d3-b136-78e06f683f5a"
      },
      "outputs": [
        {
          "output_type": "execute_result",
          "data": {
            "text/plain": [
              "(372451, 28, 28)"
            ]
          },
          "metadata": {},
          "execution_count": 23
        }
      ],
      "source": [
        "az_data.shape"
      ]
    },
    {
      "cell_type": "code",
      "execution_count": 24,
      "metadata": {
        "colab": {
          "base_uri": "https://localhost:8080/"
        },
        "id": "lNOvJpPbzc8f",
        "outputId": "78b45221-6876-4a36-d031-6dae201442ce"
      },
      "outputs": [
        {
          "output_type": "execute_result",
          "data": {
            "text/plain": [
              "array([[[0., 0., 0., ..., 0., 0., 0.],\n",
              "        [0., 0., 0., ..., 0., 0., 0.],\n",
              "        [0., 0., 0., ..., 0., 0., 0.],\n",
              "        ...,\n",
              "        [0., 0., 0., ..., 0., 0., 0.],\n",
              "        [0., 0., 0., ..., 0., 0., 0.],\n",
              "        [0., 0., 0., ..., 0., 0., 0.]],\n",
              "\n",
              "       [[0., 0., 0., ..., 0., 0., 0.],\n",
              "        [0., 0., 0., ..., 0., 0., 0.],\n",
              "        [0., 0., 0., ..., 0., 0., 0.],\n",
              "        ...,\n",
              "        [0., 0., 0., ..., 0., 0., 0.],\n",
              "        [0., 0., 0., ..., 0., 0., 0.],\n",
              "        [0., 0., 0., ..., 0., 0., 0.]],\n",
              "\n",
              "       [[0., 0., 0., ..., 0., 0., 0.],\n",
              "        [0., 0., 0., ..., 0., 0., 0.],\n",
              "        [0., 0., 0., ..., 0., 0., 0.],\n",
              "        ...,\n",
              "        [0., 0., 0., ..., 0., 0., 0.],\n",
              "        [0., 0., 0., ..., 0., 0., 0.],\n",
              "        [0., 0., 0., ..., 0., 0., 0.]],\n",
              "\n",
              "       ...,\n",
              "\n",
              "       [[0., 0., 0., ..., 0., 0., 0.],\n",
              "        [0., 0., 0., ..., 0., 0., 0.],\n",
              "        [0., 0., 0., ..., 0., 0., 0.],\n",
              "        ...,\n",
              "        [0., 0., 0., ..., 0., 0., 0.],\n",
              "        [0., 0., 0., ..., 0., 0., 0.],\n",
              "        [0., 0., 0., ..., 0., 0., 0.]],\n",
              "\n",
              "       [[0., 0., 0., ..., 0., 0., 0.],\n",
              "        [0., 0., 0., ..., 0., 0., 0.],\n",
              "        [0., 0., 0., ..., 0., 0., 0.],\n",
              "        ...,\n",
              "        [0., 0., 0., ..., 0., 0., 0.],\n",
              "        [0., 0., 0., ..., 0., 0., 0.],\n",
              "        [0., 0., 0., ..., 0., 0., 0.]],\n",
              "\n",
              "       [[0., 0., 0., ..., 0., 0., 0.],\n",
              "        [0., 0., 0., ..., 0., 0., 0.],\n",
              "        [0., 0., 0., ..., 0., 0., 0.],\n",
              "        ...,\n",
              "        [0., 0., 0., ..., 0., 0., 0.],\n",
              "        [0., 0., 0., ..., 0., 0., 0.],\n",
              "        [0., 0., 0., ..., 0., 0., 0.]]], dtype=float32)"
            ]
          },
          "metadata": {},
          "execution_count": 24
        }
      ],
      "source": [
        "az_data"
      ]
    },
    {
      "cell_type": "code",
      "execution_count": 25,
      "metadata": {
        "colab": {
          "base_uri": "https://localhost:8080/"
        },
        "id": "SVFElZ0g0ZK9",
        "outputId": "f789a5e2-e7ff-4059-c890-dd7f400e2f5c"
      },
      "outputs": [
        {
          "output_type": "execute_result",
          "data": {
            "text/plain": [
              "(372451, 28, 28)"
            ]
          },
          "metadata": {},
          "execution_count": 25
        }
      ],
      "source": [
        "az_data.shape"
      ]
    },
    {
      "cell_type": "code",
      "execution_count": 26,
      "metadata": {
        "colab": {
          "base_uri": "https://localhost:8080/",
          "height": 265
        },
        "id": "H4Nl1n10zLjN",
        "outputId": "91b357bd-a9c4-4d2c-dfae-409f9dc6a665"
      },
      "outputs": [
        {
          "output_type": "display_data",
          "data": {
            "text/plain": [
              "<Figure size 432x288 with 1 Axes>"
            ],
            "image/png": "[encoded data removed]"
          },
          "metadata": {
            "needs_background": "light"
          }
        }
      ],
      "source": [
        "x = az_data[372450][0:]\n",
        "x = x.reshape((28, 28))\n",
        "plt.imshow(x, cmap='gist_yarg')\n",
        "plt.show()"
      ]
    },
    {
      "cell_type": "code",
      "execution_count": 27,
      "metadata": {
        "colab": {
          "base_uri": "https://localhost:8080/"
        },
        "id": "AXoXdjKitiBV",
        "outputId": "afdb7f0a-9497-4dd7-b484-4aab8c0511ff"
      },
      "outputs": [
        {
          "output_type": "execute_result",
          "data": {
            "text/plain": [
              "array([5, 0, 4, ..., 4, 5, 6], dtype=uint8)"
            ]
          },
          "metadata": {},
          "execution_count": 27
        }
      ],
      "source": [
        "mnist_labels"
      ]
    },
    {
      "cell_type": "code",
      "execution_count": 28,
      "metadata": {
        "colab": {
          "base_uri": "https://localhost:8080/"
        },
        "id": "vAlcOthAvF93",
        "outputId": "3e06f730-eb57-42b6-9000-d0a863444313"
      },
      "outputs": [
        {
          "output_type": "execute_result",
          "data": {
            "text/plain": [
              "array([ 0,  0,  0, ..., 25, 25, 25])"
            ]
          },
          "metadata": {},
          "execution_count": 28
        }
      ],
      "source": [
        "az_labels"
      ]
    },
    {
      "cell_type": "code",
      "execution_count": 29,
      "metadata": {
        "id": "Fekvoa35voiK"
      },
      "outputs": [],
      "source": [
        "z = np.hstack([az_labels, mnist_labels])"
      ]
    },
    {
      "cell_type": "code",
      "execution_count": 30,
      "metadata": {
        "colab": {
          "base_uri": "https://localhost:8080/"
        },
        "id": "Ueccc7WjwAxa",
        "outputId": "ffd9ebe3-1ef9-430a-ccff-3bebe741e1fa"
      },
      "outputs": [
        {
          "output_type": "execute_result",
          "data": {
            "text/plain": [
              "array([0, 0, 0, ..., 4, 5, 6])"
            ]
          },
          "metadata": {},
          "execution_count": 30
        }
      ],
      "source": [
        "z"
      ]
    },
    {
      "cell_type": "code",
      "execution_count": 31,
      "metadata": {
        "id": "l4Pxz5PCwCRu"
      },
      "outputs": [],
      "source": [
        "# the MNIST dataset occupies the labels 0-9, so let's add 10 to every A-Z label to ensure the A-Z characters are not incorrectly labeled \n",
        "\n",
        "az_labels += 10\n",
        "\n",
        "# stack the A-Z data and labels with the MNIST digits data and labels\n",
        "\n",
        "data = np.vstack([az_data, mnist_data])\n",
        "labels = np.hstack([az_labels, mnist_labels])\n",
        "\n",
        "# Each image in the A-Z and MNIST digts datasets are 28x28 pixels;\n",
        "# However, the architecture we're using is designed for 32x32 images,\n",
        "# So we need to resize them to 32x32\n",
        "\n",
        "data = [cv.resize(image, (32, 32)) for image in data]\n",
        "data = np.array(data, dtype=\"float32\")\n",
        "\n",
        "# add a channel dimension to every image in the dataset and scale the\n",
        "# pixel intensities of the images from [0, 255] down to [0, 1]\n",
        "\n",
        "data = np.expand_dims(data, axis=-1)\n",
        "data /= 255.0"
      ]
    },
    {
      "cell_type": "code",
      "execution_count": 32,
      "metadata": {
        "colab": {
          "base_uri": "https://localhost:8080/"
        },
        "id": "GsygJv29ww3_",
        "outputId": "c13910ee-fa82-4fbd-9335-18bdae091eff"
      },
      "outputs": [
        {
          "output_type": "execute_result",
          "data": {
            "text/plain": [
              "(442451, 32, 32, 1)"
            ]
          },
          "metadata": {},
          "execution_count": 32
        }
      ],
      "source": [
        "data.shape"
      ]
    },
    {
      "cell_type": "code",
      "execution_count": 33,
      "metadata": {
        "colab": {
          "base_uri": "https://localhost:8080/"
        },
        "id": "tJBgarPpxFRW",
        "outputId": "c0dde5f8-d748-46fc-c066-5b0720a546a1"
      },
      "outputs": [
        {
          "output_type": "execute_result",
          "data": {
            "text/plain": [
              "array([10, 10, 10, ..., 35, 35, 35])"
            ]
          },
          "metadata": {},
          "execution_count": 33
        }
      ],
      "source": [
        "az_labels"
      ]
    },
    {
      "cell_type": "code",
      "execution_count": 34,
      "metadata": {
        "colab": {
          "base_uri": "https://localhost:8080/"
        },
        "id": "6HdvrmdnxQa3",
        "outputId": "1b62e3b3-8a4f-4281-fab4-88d1a19a1dd8"
      },
      "outputs": [
        {
          "output_type": "execute_result",
          "data": {
            "text/plain": [
              "array([10, 10, 10, ...,  4,  5,  6])"
            ]
          },
          "metadata": {},
          "execution_count": 34
        }
      ],
      "source": [
        "labels"
      ]
    },
    {
      "cell_type": "code",
      "execution_count": 35,
      "metadata": {
        "id": "CZdJLVZLxnDa"
      },
      "outputs": [],
      "source": [
        "le = LabelBinarizer()\n",
        "labels = le.fit_transform(labels)\n",
        "\n",
        "counts = labels.sum(axis=0)\n",
        "\n",
        "# account for skew in the labeled data\n",
        "classTotals = labels.sum(axis=0)\n",
        "classWeight = {}\n",
        "\n",
        "# loop over all classes and calculate the class weight\n",
        "labelNames = \"0123456789\"\n",
        "labelNames += \"ABCDEFGHIJKLMNOPQRSTUVWXYZ\"\n",
        "labelNames = [l for l in labelNames]\n",
        "for i in range(0, len(classTotals)):\n",
        "    classWeight[i] = classTotals.max() / classTotals[i]"
      ]
    },
    {
      "cell_type": "code",
      "execution_count": 36,
      "metadata": {
        "colab": {
          "base_uri": "https://localhost:8080/"
        },
        "id": "RVPoD_Rb3mjX",
        "outputId": "83df8616-abc2-446a-ccd5-9e5e88e8fdd6"
      },
      "outputs": [
        {
          "output_type": "execute_result",
          "data": {
            "text/plain": [
              "{0: 8.376792698826597,\n",
              " 1: 7.340992763742541,\n",
              " 2: 8.272532188841202,\n",
              " 3: 8.097605377398123,\n",
              " 4: 8.473769050410317,\n",
              " 5: 9.15967052114684,\n",
              " 6: 8.409685863874346,\n",
              " 7: 7.928835870012341,\n",
              " 8: 8.472527472527473,\n",
              " 9: 8.310577752227651,\n",
              " 10: 4.169069935111752,\n",
              " 11: 6.671089063221043,\n",
              " 12: 2.4702037677816224,\n",
              " 13: 5.7060390763765545,\n",
              " 14: 5.0546328671328675,\n",
              " 15: 49.72055030094583,\n",
              " 16: 10.035577924331829,\n",
              " 17: 8.011221945137157,\n",
              " 18: 51.629464285714285,\n",
              " 19: 6.808548216178029,\n",
              " 20: 10.320364090665715,\n",
              " 21: 4.990937338166753,\n",
              " 22: 4.6875,\n",
              " 23: 3.0418200946870066,\n",
              " 24: 1.0,\n",
              " 25: 2.989762680316426,\n",
              " 26: 9.94924294562973,\n",
              " 27: 4.999567698426422,\n",
              " 28: 1.1942625828703608,\n",
              " 29: 2.5705712380529007,\n",
              " 30: 1.993415609487038,\n",
              " 31: 13.827116212338593,\n",
              " 32: 5.362110534124629,\n",
              " 33: 9.21954719387755,\n",
              " 34: 5.3250759738465785,\n",
              " 35: 9.51695194206715}"
            ]
          },
          "metadata": {},
          "execution_count": 36
        }
      ],
      "source": [
        "classWeight"
      ]
    },
    {
      "cell_type": "code",
      "execution_count": 37,
      "metadata": {
        "colab": {
          "base_uri": "https://localhost:8080/"
        },
        "id": "Bgv7zZyR5aPz",
        "outputId": "bd9b6f17-ce46-4fc5-c2ba-a3521404f0d4"
      },
      "outputs": [
        {
          "output_type": "execute_result",
          "data": {
            "text/plain": [
              "array([ 6903,  7877,  6990,  7141,  6824,  6313,  6876,  7293,  6825,\n",
              "        6958, 13870,  8668, 23409, 10134, 11440,  1163,  5762,  7218,\n",
              "        1120,  8493,  5603, 11586, 12336, 19010, 57825, 19341,  5812,\n",
              "       11566, 48419, 22495, 29008,  4182, 10784,  6272, 10859,  6076])"
            ]
          },
          "metadata": {},
          "execution_count": 37
        }
      ],
      "source": [
        "classTotals"
      ]
    },
    {
      "cell_type": "code",
      "execution_count": 38,
      "metadata": {
        "colab": {
          "base_uri": "https://localhost:8080/"
        },
        "id": "L4RcSjIJ5eJx",
        "outputId": "08f42d50-d421-420b-ca20-961a6e6fcfc4"
      },
      "outputs": [
        {
          "output_type": "execute_result",
          "data": {
            "text/plain": [
              "9.51695194206715"
            ]
          },
          "metadata": {},
          "execution_count": 38
        }
      ],
      "source": [
        "classTotals.max() / classTotals[i]"
      ]
    },
    {
      "cell_type": "code",
      "execution_count": 39,
      "metadata": {
        "colab": {
          "base_uri": "https://localhost:8080/"
        },
        "id": "S9tgQlBo7I0S",
        "outputId": "17be1f77-ea83-4ffd-c023-0cf059b99cfc"
      },
      "outputs": [
        {
          "output_type": "execute_result",
          "data": {
            "text/plain": [
              "5.3250759738465785"
            ]
          },
          "metadata": {},
          "execution_count": 39
        }
      ],
      "source": [
        "classTotals.max()/10859"
      ]
    },
    {
      "cell_type": "code",
      "execution_count": 40,
      "metadata": {
        "id": "_NU8XsNR7Srr"
      },
      "outputs": [],
      "source": [
        "(trainX, testX, trainY, testY) = train_test_split(data,labels, test_size=0.20, stratify=labels, random_state=42)"
      ]
    },
    {
      "cell_type": "code",
      "execution_count": 41,
      "metadata": {
        "colab": {
          "base_uri": "https://localhost:8080/"
        },
        "id": "HCycynaV8t8w",
        "outputId": "fc9304e6-9f4d-4f43-af4b-f8ad8bf3eb86"
      },
      "outputs": [
        {
          "output_type": "execute_result",
          "data": {
            "text/plain": [
              "(353960, 32, 32, 1)"
            ]
          },
          "metadata": {},
          "execution_count": 41
        }
      ],
      "source": [
        "trainX.shape"
      ]
    },
    {
      "cell_type": "code",
      "execution_count": 42,
      "metadata": {
        "colab": {
          "base_uri": "https://localhost:8080/"
        },
        "id": "VST2dMBtlSAT",
        "outputId": "0bb8c646-4f96-4775-8066-703d1a1b26d6"
      },
      "outputs": [
        {
          "output_type": "execute_result",
          "data": {
            "text/plain": [
              "(88491, 32, 32, 1)"
            ]
          },
          "metadata": {},
          "execution_count": 42
        }
      ],
      "source": [
        "testX.shape"
      ]
    },
    {
      "cell_type": "code",
      "execution_count": 43,
      "metadata": {
        "id": "DIaJlkQS84SB"
      },
      "outputs": [],
      "source": [
        "from keras.preprocessing.image import ImageDataGenerator\n",
        "from skimage import io\n",
        "aug = ImageDataGenerator(\n",
        "rotation_range=10,\n",
        "zoom_range=0.05,\n",
        "width_shift_range=0.1,\n",
        "height_shift_range=0.1,\n",
        "shear_range=0.15,\n",
        "horizontal_flip=False,\n",
        "fill_mode=\"nearest\")"
      ]
    },
    {
      "cell_type": "code",
      "execution_count": 44,
      "metadata": {
        "id": "AS_ML0G29kLd"
      },
      "outputs": [],
      "source": [
        "batch_size = 128\n",
        "epochs = 10"
      ]
    },
    {
      "cell_type": "code",
      "execution_count": 45,
      "metadata": {
        "colab": {
          "base_uri": "https://localhost:8080/"
        },
        "id": "cWP1WLJn9nbg",
        "outputId": "c0aa06d6-367b-45e8-b210-be65921840c6"
      },
      "outputs": [
        {
          "output_type": "stream",
          "name": "stdout",
          "text": [
            "Epoch 1/10\n",
            "11062/11062 [==============================] - 414s 36ms/step - loss: 0.5007 - accuracy: 0.8804\n",
            "Epoch 2/10\n",
            "11062/11062 [==============================] - 400s 36ms/step - loss: 0.2255 - accuracy: 0.9416\n",
            "Epoch 3/10\n",
            "11062/11062 [==============================] - 400s 36ms/step - loss: 0.1240 - accuracy: 0.9658\n",
            "Epoch 4/10\n",
            "11062/11062 [==============================] - 401s 36ms/step - loss: 0.1005 - accuracy: 0.9720\n",
            "Epoch 5/10\n",
            "11062/11062 [==============================] - 401s 36ms/step - loss: 0.0860 - accuracy: 0.9761\n",
            "Epoch 6/10\n",
            "11062/11062 [==============================] - 399s 36ms/step - loss: 0.0776 - accuracy: 0.9784\n",
            "Epoch 7/10\n",
            "11062/11062 [==============================] - 399s 36ms/step - loss: 0.0799 - accuracy: 0.9786\n",
            "Epoch 8/10\n",
            "11062/11062 [==============================] - 401s 36ms/step - loss: 0.0718 - accuracy: 0.9799\n",
            "Epoch 9/10\n",
            "11062/11062 [==============================] - 401s 36ms/step - loss: 0.0627 - accuracy: 0.9825\n",
            "Epoch 10/10\n",
            "11062/11062 [==============================] - 401s 36ms/step - loss: 0.0595 - accuracy: 0.9831\n",
            "2766/2766 [==============================] - 38s 13ms/step - loss: 3.6729 - accuracy: 0.9458\n"
          ]
        }
      ],
      "source": [
        "enet = ResNet50(\n",
        "        input_shape=(32, 32, 1),\n",
        "        weights=None,\n",
        "        include_top=False\n",
        "    )\n",
        "\n",
        "model = tf.keras.Sequential([\n",
        "        enet,\n",
        "        tf.keras.layers.GlobalAveragePooling2D(),\n",
        "        tf.keras.layers.Dense(36, activation='softmax')\n",
        "    ])\n",
        "# model = keras.Sequential([\n",
        "#                         keras.layers.Flatten(input_shape=(28,28)),\n",
        "#                         keras.layers.Dense(128,activation='relu'),\n",
        "#                         keras.layers.Dense(10,activation='softmax')\n",
        "# ])\n",
        "model.compile(\n",
        "    optimizer=tf.keras.optimizers.Adam(learning_rate=1e-3),\n",
        "    loss='categorical_crossentropy',\n",
        "    metrics=['accuracy']\n",
        ")\n",
        "\n",
        "\n",
        "# model.compile(optimizer = 'adam',loss='sparse_categorical_crossentropy',metrics=['accuracy'])\n",
        "# model.fit(trainX,trainY,epochs =10)\n",
        "H = model.fit(trainX,trainY,epochs=10)\n",
        "test_loss,test_auc=model.evaluate(testX,testY)"
      ]
    },
    {
      "cell_type": "code",
      "execution_count": 46,
      "metadata": {
        "id": "cS55zr409yPx"
      },
      "outputs": [],
      "source": [
        "from keras.models import load_model\n",
        "model.save(\"network.h5\")\n",
        "loaded_mode = load_model(\"network.h5\")\n",
        "# loss, accuracy = loaded_model.evaluate(testX,testY)"
      ]
    },
    {
      "cell_type": "code",
      "execution_count": 47,
      "metadata": {
        "id": "diaKvBOBBHKt",
        "colab": {
          "base_uri": "https://localhost:8080/"
        },
        "outputId": "27b77e18-9cc8-4030-d570-ec0ba61cf7ae"
      },
      "outputs": [
        {
          "output_type": "stream",
          "name": "stdout",
          "text": [
            "2766/2766 [==============================] - 38s 14ms/step - loss: 3.6729 - accuracy: 0.9458\n"
          ]
        }
      ],
      "source": [
        "test_loss,test_auc=model.evaluate(testX,testY)"
      ]
    },
    {
      "cell_type": "code",
      "execution_count": null,
      "metadata": {
        "id": "bneG8Q2w5dH-"
      },
      "outputs": [],
      "source": [
        "model.predict(testX)"
      ]
    },
    {
      "cell_type": "code",
      "execution_count": null,
      "metadata": {
        "id": "X8EVDa3tM7Dv"
      },
      "outputs": [],
      "source": [
        "from sklearn.metrics import classification_report\n",
        "# evaluate the network\n",
        "print(\"[INFO] evaluating network...\")\n",
        "predictions = model.predict(testX, 128)\n",
        "print(classification_report(testY.argmax(axis=1),\n",
        "\tpredictions.argmax(axis=1), target_names=labelNames))"
      ]
    },
    {
      "cell_type": "code",
      "execution_count": 50,
      "metadata": {
        "id": "XuroNc515scG",
        "colab": {
          "base_uri": "https://localhost:8080/",
          "height": 269
        },
        "outputId": "1efe8339-8138-4202-c81f-d4753fadb304"
      },
      "outputs": [
        {
          "output_type": "display_data",
          "data": {
            "text/plain": [
              "<Figure size 432x288 with 1 Axes>"
            ],
            "image/png": "[encoded data removed]"
          },
          "metadata": {
            "needs_background": "light"
          }
        }
      ],
      "source": [
        "from imutils import build_montages\n",
        "# initialize our list of output test images\n",
        "images = []\n",
        "# randomly select a few testing characters\n",
        "for i in np.random.choice(np.arange(0, len(testY)), size=(49,)):\n",
        "\t# classify the character\n",
        "\tprobs = model.predict(testX[np.newaxis, i])\n",
        "\tprediction = probs.argmax(axis=1)\n",
        "\tlabel = labelNames[prediction[0]]\n",
        "\t# extract the image from the test data and initialize the text\n",
        "\t# label color as green (correct)\n",
        "\timage = (testX[i] * 255).astype(\"uint8\")\n",
        "\tcolor = (0, 255, 0)\n",
        "\t# otherwise, the class label prediction is incorrect\n",
        "\tif prediction[0] != np.argmax(testY[i]):\n",
        "\t\tcolor = (0, 0, 255)\n",
        "\t# merge the channels into one image, resize the image from 32x32\n",
        "\t# to 96x96 so we can better see it and then draw the predicted\n",
        "\t# label on the image\n",
        "\timage = cv.merge([image] * 3)\n",
        "\timage = cv.resize(image, (96, 96), interpolation=cv.INTER_LINEAR)\n",
        "\tcv.putText(image, label, (5, 20), cv.FONT_HERSHEY_SIMPLEX, 0.75,\n",
        "\t\tcolor, 2)\n",
        "\t# add the image to our list of output images\n",
        "\timages.append(image)\n",
        "# construct the montage for the images\n",
        "montage = build_montages(images, (96, 96), (7, 7))[0]\n",
        "# show the output montage\n",
        "plt.imshow( montage)\n",
        "plt.show()"
      ]
    },
    {
      "cell_type": "code",
      "execution_count": null,
      "metadata": {
        "id": "HYzGnoLpRHWG"
      },
      "outputs": [],
      "source": [
        "# construct a plot that plots and saves the training history\n",
        "N = np.arange(0, epochs)\n",
        "plt.style.use(\"ggplot\")\n",
        "plt.figure()\n",
        "plt.plot(N, H.history[\"loss\"], label=\"train_loss\")\n",
        "plt.plot(N, H.history[\"val_loss\"], label=\"val_loss\")\n",
        "plt.title(\"Training Loss and Accuracy\")\n",
        "plt.xlabel(\"Epoch #\")\n",
        "plt.ylabel(\"Loss/Accuracy\")\n",
        "plt.legend(loc=\"lower left\")\n",
        "plt.savefig(args[\"plot\"])"
      ]
    },
    {
      "cell_type": "code",
      "execution_count": null,
      "metadata": {
        "id": "K0by2qKiTMnP"
      },
      "outputs": [],
      "source": [
        ""
      ]
    }
  ],
  "metadata": {
    "accelerator": "GPU",
    "colab": {
      "collapsed_sections": [],
      "name": "Project_1.ipynb",
      "provenance": [],
      "include_colab_link": true
    },
    "kernelspec": {
      "display_name": "Python 3",
      "name": "python3"
    },
    "language_info": {
      "name": "python"
    }
  },
  "nbformat": 4,
  "nbformat_minor": 0
}